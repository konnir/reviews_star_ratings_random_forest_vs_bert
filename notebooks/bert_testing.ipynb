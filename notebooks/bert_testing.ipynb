{
  "cells": [
    {
      "cell_type": "markdown",
      "metadata": {
        "id": "xE1b3WARMMGu"
      },
      "source": [
        "## 1. Import Statements\n",
        "\n",
        "---\n",
        "\n"
      ]
    },
    {
      "cell_type": "code",
      "execution_count": 1,
      "metadata": {
        "id": "Q3ucYDf8LhZ0"
      },
      "outputs": [],
      "source": [
        "# %%capture\n",
        "# !pip install transformers"
      ]
    },
    {
      "cell_type": "code",
      "execution_count": 5,
      "metadata": {
        "id": "H9xqhnDDL4sY"
      },
      "outputs": [
        {
          "name": "stderr",
          "output_type": "stream",
          "text": [
            "/home/user/miniconda3/envs/velotix-ex/lib/python3.9/site-packages/tqdm/auto.py:21: TqdmWarning: IProgress not found. Please update jupyter and ipywidgets. See https://ipywidgets.readthedocs.io/en/stable/user_install.html\n",
            "  from .autonotebook import tqdm as notebook_tqdm\n"
          ]
        }
      ],
      "source": [
        "import torch\n",
        "import numpy as np\n",
        "import pandas as pd\n",
        "\n",
        "from sklearn.model_selection import train_test_split\n",
        "from torch.utils.data import Dataset, DataLoader\n",
        "from transformers import AutoTokenizer, BertModel, BertForSequenceClassification"
      ]
    },
    {
      "cell_type": "code",
      "execution_count": 9,
      "metadata": {
        "colab": {
          "base_uri": "https://localhost:8080/",
          "height": 37
        },
        "id": "eI4sOx2eL8hR",
        "outputId": "601fb1a4-2901-48bf-a322-0a63aefaaca2"
      },
      "outputs": [
        {
          "data": {
            "text/plain": [
              "'cuda'"
            ]
          },
          "execution_count": 9,
          "metadata": {},
          "output_type": "execute_result"
        }
      ],
      "source": [
        "# Set up the GPU.\n",
        "device = 'cuda' if torch.cuda.is_available() else 'cpu'\n",
        "device"
      ]
    },
    {
      "cell_type": "markdown",
      "metadata": {
        "id": "d5epSitaMR0M"
      },
      "source": [
        "## 2. Load the Data\n",
        "\n",
        "---\n"
      ]
    },
    {
      "cell_type": "markdown",
      "metadata": {
        "id": "qMIVJAgKCqqQ"
      },
      "source": [
        "The original code in this section is located in `bert-training.ipynb`. It is included here to make the `get_star_predictions()` function to work."
      ]
    },
    {
      "cell_type": "code",
      "execution_count": 4,
      "metadata": {
        "colab": {
          "base_uri": "https://localhost:8080/"
        },
        "id": "sSqOM7iyL6s-",
        "outputId": "7b565b09-bb3b-4d45-af88-1d39f364ce6c"
      },
      "outputs": [
        {
          "name": "stdout",
          "output_type": "stream",
          "text": [
            "Drive already mounted at /content/drive; to attempt to forcibly remount, call drive.mount(\"/content/drive\", force_remount=True).\n"
          ]
        }
      ],
      "source": [
        "from google.colab import drive\n",
        "drive.mount('/content/drive')"
      ]
    },
    {
      "cell_type": "code",
      "execution_count": 5,
      "metadata": {
        "colab": {
          "base_uri": "https://localhost:8080/",
          "height": 419
        },
        "id": "DEit55RnL9lL",
        "outputId": "9ee5330a-e66b-4a2a-c653-7cde3a4a7e66"
      },
      "outputs": [
        {
          "data": {
            "text/html": [
              "<div>\n",
              "<style scoped>\n",
              "    .dataframe tbody tr th:only-of-type {\n",
              "        vertical-align: middle;\n",
              "    }\n",
              "\n",
              "    .dataframe tbody tr th {\n",
              "        vertical-align: top;\n",
              "    }\n",
              "\n",
              "    .dataframe thead th {\n",
              "        text-align: right;\n",
              "    }\n",
              "</style>\n",
              "<table border=\"1\" class=\"dataframe\">\n",
              "  <thead>\n",
              "    <tr style=\"text-align: right;\">\n",
              "      <th></th>\n",
              "      <th>comment</th>\n",
              "      <th>stars</th>\n",
              "    </tr>\n",
              "  </thead>\n",
              "  <tbody>\n",
              "    <tr>\n",
              "      <th>0</th>\n",
              "      <td>I could sit here and write all about the specs...</td>\n",
              "      <td>5</td>\n",
              "    </tr>\n",
              "    <tr>\n",
              "      <th>1</th>\n",
              "      <td>A very reasonably priced laptop for basic comp...</td>\n",
              "      <td>4</td>\n",
              "    </tr>\n",
              "    <tr>\n",
              "      <th>2</th>\n",
              "      <td>This is the best laptop deal you can get, full...</td>\n",
              "      <td>5</td>\n",
              "    </tr>\n",
              "    <tr>\n",
              "      <th>3</th>\n",
              "      <td>A few months after the purchase....It is still...</td>\n",
              "      <td>5</td>\n",
              "    </tr>\n",
              "    <tr>\n",
              "      <th>4</th>\n",
              "      <td>BUYER BE AWARE: This computer has Microsoft 10...</td>\n",
              "      <td>1</td>\n",
              "    </tr>\n",
              "    <tr>\n",
              "      <th>...</th>\n",
              "      <td>...</td>\n",
              "      <td>...</td>\n",
              "    </tr>\n",
              "    <tr>\n",
              "      <th>195760</th>\n",
              "      <td>I have not tried this camera without the SD ca...</td>\n",
              "      <td>5</td>\n",
              "    </tr>\n",
              "    <tr>\n",
              "      <th>195761</th>\n",
              "      <td>Hello, I bought this item months ago and I tho...</td>\n",
              "      <td>1</td>\n",
              "    </tr>\n",
              "    <tr>\n",
              "      <th>195762</th>\n",
              "      <td>This is an incredible camera for the money!!  ...</td>\n",
              "      <td>5</td>\n",
              "    </tr>\n",
              "    <tr>\n",
              "      <th>195763</th>\n",
              "      <td>Great cameras. Purchased some for my mother af...</td>\n",
              "      <td>5</td>\n",
              "    </tr>\n",
              "    <tr>\n",
              "      <th>195764</th>\n",
              "      <td>Just getting it set up and seem s to work well...</td>\n",
              "      <td>5</td>\n",
              "    </tr>\n",
              "  </tbody>\n",
              "</table>\n",
              "<p>195765 rows × 2 columns</p>\n",
              "</div>"
            ],
            "text/plain": [
              "                                                  comment  stars\n",
              "0       I could sit here and write all about the specs...      5\n",
              "1       A very reasonably priced laptop for basic comp...      4\n",
              "2       This is the best laptop deal you can get, full...      5\n",
              "3       A few months after the purchase....It is still...      5\n",
              "4       BUYER BE AWARE: This computer has Microsoft 10...      1\n",
              "...                                                   ...    ...\n",
              "195760  I have not tried this camera without the SD ca...      5\n",
              "195761  Hello, I bought this item months ago and I tho...      1\n",
              "195762  This is an incredible camera for the money!!  ...      5\n",
              "195763  Great cameras. Purchased some for my mother af...      5\n",
              "195764  Just getting it set up and seem s to work well...      5\n",
              "\n",
              "[195765 rows x 2 columns]"
            ]
          },
          "execution_count": 5,
          "metadata": {
            "tags": []
          },
          "output_type": "execute_result"
        }
      ],
      "source": [
        "github_url = 'https://raw.githubusercontent.com/csbanon/bert-product-rating-predictor/master/data/reviews_comments_stars.csv'\n",
        "df = pd.read_csv(github_url)\n",
        "df = df[['comment', 'stars']]\n",
        "df"
      ]
    },
    {
      "cell_type": "code",
      "execution_count": 6,
      "metadata": {
        "id": "HT10SfiKirC5"
      },
      "outputs": [],
      "source": [
        "train_dataset, test_dataset = train_test_split(df, test_size=0.2, random_state=1)\n",
        "test_dataset = test_dataset.reset_index(drop=True)"
      ]
    },
    {
      "cell_type": "code",
      "execution_count": 7,
      "metadata": {},
      "outputs": [],
      "source": [
        "# Nir START \n",
        "df = pd.read_csv('../data/amazon_reviews_reviewText_ratings.csv')\n",
        "df = df.sample(frac=0.1, random_state=34)"
      ]
    },
    {
      "cell_type": "markdown",
      "metadata": {
        "id": "ZyVl2j4UBR2W"
      },
      "source": [
        "## 3. Define the BERT Model\n",
        "\n",
        "---\n",
        "\n"
      ]
    },
    {
      "cell_type": "markdown",
      "metadata": {
        "id": "eSUyLlJiDCIU"
      },
      "source": [
        "The original code in this section is located in `bert-training.ipynb`. It is included here to make the `get_star_predictions()` function to work. The output is suppressed to make the notebook easier to read."
      ]
    },
    {
      "cell_type": "code",
      "execution_count": 10,
      "metadata": {
        "colab": {
          "base_uri": "https://localhost:8080/"
        },
        "id": "1-gGqXqEMb0C",
        "outputId": "c0c979e5-22e1-4814-c27e-00507e1a051b"
      },
      "outputs": [
        {
          "name": "stderr",
          "output_type": "stream",
          "text": [
            "Some weights of BertForSequenceClassification were not initialized from the model checkpoint at bert-base-uncased and are newly initialized: ['classifier.bias', 'classifier.weight']\n",
            "You should probably TRAIN this model on a down-stream task to be able to use it for predictions and inference.\n"
          ]
        }
      ],
      "source": [
        "%%capture\n",
        "model = BertForSequenceClassification.from_pretrained(\n",
        "    \"bert-base-uncased\",\n",
        "    num_labels = len(df['rating'].unique()), # Number of unique labels for our multi-class classification problem.\n",
        "    output_attentions = False,\n",
        "    output_hidden_states = False,\n",
        ")\n",
        "model.to(device)"
      ]
    },
    {
      "cell_type": "markdown",
      "metadata": {
        "id": "rCq6SJCGBVS_"
      },
      "source": [
        "## 4. Load the Trained Model\n",
        "\n",
        "---"
      ]
    },
    {
      "cell_type": "markdown",
      "metadata": {
        "id": "si9anPkRDGg6"
      },
      "source": [
        "Here, we load the `pytorch_model_2_epochs.bin` file, which contains the trained weights."
      ]
    },
    {
      "cell_type": "code",
      "execution_count": null,
      "metadata": {
        "colab": {
          "base_uri": "https://localhost:8080/"
        },
        "id": "J1-Lp6pcNzMd",
        "outputId": "be1826e6-c0fe-4d09-a6de-c3bf0987cb59"
      },
      "outputs": [],
      "source": [
        "# Load the trained model.\n",
        "model.load_state_dict(torch.load('/home/user/IdeaProjects/velotix_ex/models/Model_V3/3/bert_3.pth'))\n",
        "model.eval()"
      ]
    },
    {
      "cell_type": "code",
      "execution_count": 18,
      "metadata": {},
      "outputs": [],
      "source": [
        "from transformers import BertForSequenceClassification\n",
        "\n",
        "loaded_model = BertForSequenceClassification.from_pretrained('/home/user/IdeaProjects/velotix_ex/models/Model_V3/3/md')"
      ]
    },
    {
      "cell_type": "markdown",
      "metadata": {
        "id": "FAszbcKeBaqE"
      },
      "source": [
        "## 5. Define the Reviews Dataset\n",
        "\n",
        "---\n",
        "\n"
      ]
    },
    {
      "cell_type": "markdown",
      "metadata": {
        "id": "66b7TLv1DERl"
      },
      "source": [
        "The original code in this section is located in `star_prediction.ipyn`. It is included here to make the `get_star_predictions()` function to work."
      ]
    },
    {
      "cell_type": "code",
      "execution_count": 24,
      "metadata": {
        "id": "gj3iNQsUOPTQ"
      },
      "outputs": [],
      "source": [
        "class ReviewsDataset(Dataset):\n",
        "    def __init__(self, df, max_length=512):\n",
        "        self.df = df\n",
        "        self.tokenizer = AutoTokenizer.from_pretrained('bert-base-uncased')\n",
        "        self.max_length = max_length \n",
        "        \n",
        "    def __len__(self):\n",
        "        return len(self.df)\n",
        "    \n",
        "    def __getitem__(self, idx):\n",
        "        # input=review, label=stars\n",
        "        review = self.df.loc[idx, 'reviewText']\n",
        "        # labels are 0-indexed\n",
        "        label = int(self.df.loc[idx, 'rating']) - 1\n",
        "        \n",
        "        encoded = self.tokenizer(\n",
        "            review,                      # Review to encode.\n",
        "            add_special_tokens=True,\n",
        "            max_length=self.max_length,  # Truncate all segments to max_length.\n",
        "            padding='max_length',        # Pad all reviews with the [PAD] token to the max_length.\n",
        "            return_attention_mask=True,  # Construct attention masks.\n",
        "            truncation=True\n",
        "        )\n",
        "        \n",
        "        input_ids = encoded['input_ids']\n",
        "        attn_mask = encoded['attention_mask']\n",
        "        \n",
        "        return {\n",
        "            'input_ids': torch.tensor(input_ids),\n",
        "            'attn_mask': torch.tensor(attn_mask), \n",
        "            'label': torch.tensor(label)\n",
        "        }"
      ]
    },
    {
      "cell_type": "markdown",
      "metadata": {
        "id": "0E2XPeDeCbwR"
      },
      "source": [
        "## 6. Predict the Star Rating\n",
        "\n",
        "---"
      ]
    },
    {
      "cell_type": "markdown",
      "metadata": {
        "id": "pON7R4sCDQ0D"
      },
      "source": [
        "The following code takes a string comment and returns a predicted star rating."
      ]
    },
    {
      "cell_type": "code",
      "execution_count": 66,
      "metadata": {
        "id": "xSzzXD999Mtk"
      },
      "outputs": [],
      "source": [
        "def get_single_prediction(comment, model):\n",
        "  \"\"\"\n",
        "  Predict a star rating from a review comment.\n",
        "\n",
        "  :comment: the string containing the review comment.\n",
        "  :model: the model to be used for the prediction.\n",
        "  \"\"\"\n",
        "\n",
        "  df = pd.DataFrame()\n",
        "  df['reviewText'] = [comment]\n",
        "  df['rating'] = ['0']\n",
        "\n",
        "  dataset = ReviewsDataset(df)\n",
        "\n",
        "  TEST_BATCH_SIZE = 1\n",
        "  NUM_WORKERS = 1\n",
        "\n",
        "  test_params = {'batch_size': TEST_BATCH_SIZE,\n",
        "              'shuffle': True,\n",
        "              'num_workers': NUM_WORKERS}\n",
        "\n",
        "  data_loader = DataLoader(dataset, **test_params)\n",
        "\n",
        "  total_examples = len(df)\n",
        "  predictions = np.zeros([total_examples], dtype=object)\n",
        "\n",
        "  for batch, data in enumerate(data_loader):\n",
        "\n",
        "    # Get the tokenization values.\n",
        "    input_ids = data['input_ids'].to(device)\n",
        "    mask = data['attn_mask'].to(device)\n",
        "\n",
        "    # Make the prediction with the trained model.\n",
        "    outputs = model(input_ids, mask)\n",
        "\n",
        "    # Get the star rating.\n",
        "    big_val, big_idx = torch.max(outputs[0].data, dim=1)\n",
        "    star_predictions = (big_idx + 1).cpu().numpy()\n",
        "\n",
        "  return star_predictions[0]"
      ]
    },
    {
      "cell_type": "code",
      "execution_count": 72,
      "metadata": {},
      "outputs": [],
      "source": [
        "from transformers import BertTokenizer\n",
        "\n",
        "def get_single_prediction2(comment, model, tokenizer):\n",
        "    # Tokenize the comment\n",
        "    inputs = tokenizer.encode_plus(\n",
        "        comment,\n",
        "        return_tensors=\"pt\",\n",
        "        add_special_tokens=True,\n",
        "        max_length=512,\n",
        "        padding='max_length',\n",
        "        truncation=True\n",
        "    )\n",
        "    \n",
        "    input_ids = inputs['input_ids'].to(device)\n",
        "    attention_mask = inputs['attention_mask'].to(device)\n",
        "    \n",
        "    # Predict\n",
        "    with torch.no_grad():\n",
        "        outputs = model(input_ids, attention_mask=attention_mask)\n",
        "    \n",
        "    logits = outputs.logits\n",
        "    predictions = torch.argmax(logits, dim=-1)\n",
        "    \n",
        "    return predictions.item() + 1 "
      ]
    },
    {
      "cell_type": "code",
      "execution_count": 73,
      "metadata": {
        "id": "mJyCZCUnifbI"
      },
      "outputs": [
        {
          "ename": "AttributeError",
          "evalue": "'BaseModelOutputWithPoolingAndCrossAttentions' object has no attribute 'logits'",
          "output_type": "error",
          "traceback": [
            "\u001b[0;31m---------------------------------------------------------------------------\u001b[0m",
            "\u001b[0;31mAttributeError\u001b[0m                            Traceback (most recent call last)",
            "Cell \u001b[0;32mIn[73], line 7\u001b[0m\n\u001b[1;32m      5\u001b[0m model\u001b[38;5;241m.\u001b[39meval()\n\u001b[1;32m      6\u001b[0m tokenizer \u001b[38;5;241m=\u001b[39m BertTokenizer\u001b[38;5;241m.\u001b[39mfrom_pretrained(\u001b[38;5;124m'\u001b[39m\u001b[38;5;124mbert-base-uncased\u001b[39m\u001b[38;5;124m'\u001b[39m)\n\u001b[0;32m----> 7\u001b[0m prediction \u001b[38;5;241m=\u001b[39m \u001b[43mget_single_prediction2\u001b[49m\u001b[43m(\u001b[49m\u001b[38;5;124;43m\"\u001b[39;49m\u001b[38;5;124;43mThis is an amazing product!\u001b[39;49m\u001b[38;5;124;43m\"\u001b[39;49m\u001b[43m,\u001b[49m\u001b[43m \u001b[49m\u001b[43mmodel\u001b[49m\u001b[43m,\u001b[49m\u001b[43m \u001b[49m\u001b[43mtokenizer\u001b[49m\u001b[43m)\u001b[49m\n\u001b[1;32m      8\u001b[0m prediction\n",
            "Cell \u001b[0;32mIn[72], line 21\u001b[0m, in \u001b[0;36mget_single_prediction2\u001b[0;34m(comment, model, tokenizer)\u001b[0m\n\u001b[1;32m     18\u001b[0m \u001b[38;5;28;01mwith\u001b[39;00m torch\u001b[38;5;241m.\u001b[39mno_grad():\n\u001b[1;32m     19\u001b[0m     outputs \u001b[38;5;241m=\u001b[39m model(input_ids, attention_mask\u001b[38;5;241m=\u001b[39mattention_mask)\n\u001b[0;32m---> 21\u001b[0m logits \u001b[38;5;241m=\u001b[39m \u001b[43moutputs\u001b[49m\u001b[38;5;241;43m.\u001b[39;49m\u001b[43mlogits\u001b[49m\n\u001b[1;32m     22\u001b[0m predictions \u001b[38;5;241m=\u001b[39m torch\u001b[38;5;241m.\u001b[39margmax(logits, dim\u001b[38;5;241m=\u001b[39m\u001b[38;5;241m-\u001b[39m\u001b[38;5;241m1\u001b[39m)\n\u001b[1;32m     24\u001b[0m \u001b[38;5;28;01mreturn\u001b[39;00m predictions\u001b[38;5;241m.\u001b[39mitem() \u001b[38;5;241m+\u001b[39m \u001b[38;5;241m1\u001b[39m\n",
            "\u001b[0;31mAttributeError\u001b[0m: 'BaseModelOutputWithPoolingAndCrossAttentions' object has no attribute 'logits'"
          ]
        }
      ],
      "source": [
        "from transformers import BertForSequenceClassification, BertTokenizer\n",
        "\n",
        "# Get the star predictions.\n",
        "model.to(device)\n",
        "model.eval()\n",
        "tokenizer = BertTokenizer.from_pretrained('bert-base-uncased')\n",
        "prediction = get_single_prediction2(\"This is an amazing product!\", model, tokenizer)\n",
        "prediction"
      ]
    },
    {
      "cell_type": "code",
      "execution_count": 35,
      "metadata": {
        "colab": {
          "base_uri": "https://localhost:8080/"
        },
        "id": "bRdm3urCI4gj",
        "outputId": "2d33d87f-1229-4092-dfab-969c055d79c4"
      },
      "outputs": [
        {
          "name": "stdout",
          "output_type": "stream",
          "text": [
            "[424 373  44 127 206 470 404 398 261 469 257 166 322  99 417 450 368 209\n",
            " 149 329 126 152 156 447  12 257 352 346 443  45 402 224  78 157 309 236\n",
            " 320 505 324 364 192  76 483  30 496 394 304  69 489   5  13   8 334 425\n",
            "  40 182  98 245 497 492 195 492 243   4 140 209 220 321 193 398 276 371\n",
            " 483 481 414  48 391  38 106 257 253 296 305 276 489 469 410 500  82 300\n",
            "  46 497 217 156 169 124  50 482  33 179 238 263 105 176 478 338 447 176\n",
            " 226  80 298  16 325 120 202 267 309 269  92 370 252 508 111   5 344  30\n",
            " 227   9  82 128 429 220  54 506 154 469 325  35  85 397 369   3 347 134\n",
            " 198  14 228 369 101  44   4 461 215 299 472 114 357 219  36 126 295  68\n",
            " 314 113 278 465 350 428 352 398 429 310 255  47 210 218 425  94 191  78\n",
            " 182 309 262 227 350 199 174 250 255 233  18 118 275 256  31 209 166 114\n",
            " 305  10 121  63 319 327 423  75 330 462 336 416 410 142 510 306 389 294\n",
            " 191 448  51 222 325  33  94   9  88 261 360   5  42 231 277 199 316 228\n",
            "  89  75 155 178 152  85 454 146 112 305 456  58 498 122  79 418 108 259\n",
            " 110 424 230 308 378   6   6 122 190 325 120 380 156  96 397 285 442 354\n",
            " 171 232  20  38 323 308 444  11  41 236 149 488 448 119 400 304  28 441\n",
            " 387 502  72 345  80 177 156  75 237   1  62 300 440  45 417 147   8  84\n",
            " 215 164 434 184 499 511 112 267  42 207 220 209 136 251 498 267 219 300\n",
            " 442 505  82 340 101 451 418 329 184  63 414   7 421  56 192  42 110  95\n",
            " 502 124 174 413 498 193 243 178 157 401  92 486 388  95 298  50  80 166\n",
            " 157 363 294 209 474 267 150 391 200   9 447 112  80 251 220 249 452 160\n",
            "  57 436 364 272 256 383 259 358  57 469 413 340  59 272 281  53 503 478\n",
            " 309 338 456 395 176 183 152  39 474 178  31 438 388  11  33 402 175 486\n",
            " 219 294 226 410 234 484 378   3 259 180 116  70 338 396 362 392 250 226\n",
            " 327 200 322 359 198  71 238 310 392 351 290  63 242 270 101  42 255  43\n",
            " 185  22 481 512 438 107 174 132 260 132 441  78  68  66 283 491 292 419\n",
            " 223 492  79 256 231 360 400 375 421 395 163  84 341 429 460 207 438 192\n",
            " 486   5 300  61 378 507 142  55 463 502  72 305 228  24  63 380  25 183\n",
            " 376 377 506 428 320 205  27 257 360 416 284 393 472 237 395 106 128 265\n",
            " 343 344 444 175 200 220 290 126 301  55 450 416 497 120 164 135 139 478\n",
            "  71 102 444 137 389 342 300  80 174 227 429 325 224 407 242  97 201  95\n",
            " 494 197 475 441 150  47 360 371 115 118 216  32 237 255 398 373 264 328\n",
            " 240 103 113 396  52 471 195 462 399 149  10 215  53 107  50 181 458 121\n",
            " 263  25  37 236  12 326 352 110 212 197 381 174 418 303 321 204 246   5\n",
            " 266 341 461  77 126 393 487  40 441 473 373 317 370 491 118 190 377  45\n",
            " 424 400  47 418 194  23 331 298 439 170 145 262 427 135 251 480 481 249\n",
            " 449 319 341 415 166 227 409 116 477 461  63 280 302 400 421  20 377 393\n",
            " 452 339 114 118  98 168  99 264 172   4 386 384  71 482 412 308 299 374\n",
            " 178 346 268  57 269 364 305   1 378 225 288 105  79 464 487 478  32 373\n",
            " 450  65 195   1 332 318 271 145 110  52 448 400 220 204 192  45 495 468\n",
            " 291 424 466 307  10 423  91  40 479 323 146 314 418 352 206 375 499  98\n",
            "  12 270  55 396 110 431 151 147 102 178 499 252 251 442 118 212 331 436\n",
            "  63 148  21 412 142   4 126  93 132 112 380 191]\n"
          ]
        }
      ],
      "source": [
        "print(prediction)"
      ]
    },
    {
      "cell_type": "code",
      "execution_count": 23,
      "metadata": {},
      "outputs": [
        {
          "data": {
            "text/html": [
              "<div>\n",
              "<style scoped>\n",
              "    .dataframe tbody tr th:only-of-type {\n",
              "        vertical-align: middle;\n",
              "    }\n",
              "\n",
              "    .dataframe tbody tr th {\n",
              "        vertical-align: top;\n",
              "    }\n",
              "\n",
              "    .dataframe thead th {\n",
              "        text-align: right;\n",
              "    }\n",
              "</style>\n",
              "<table border=\"1\" class=\"dataframe\">\n",
              "  <thead>\n",
              "    <tr style=\"text-align: right;\">\n",
              "      <th></th>\n",
              "      <th>rating</th>\n",
              "      <th>reviewText</th>\n",
              "    </tr>\n",
              "  </thead>\n",
              "  <tbody>\n",
              "    <tr>\n",
              "      <th>215769</th>\n",
              "      <td>5</td>\n",
              "      <td>Very Cute</td>\n",
              "    </tr>\n",
              "    <tr>\n",
              "      <th>183386</th>\n",
              "      <td>5</td>\n",
              "      <td>I bought this for my Petit1 Pilot pen because ...</td>\n",
              "    </tr>\n",
              "    <tr>\n",
              "      <th>240678</th>\n",
              "      <td>5</td>\n",
              "      <td>Nice!</td>\n",
              "    </tr>\n",
              "    <tr>\n",
              "      <th>75630</th>\n",
              "      <td>5</td>\n",
              "      <td>I purchased a home with a sidewalk, driveway a...</td>\n",
              "    </tr>\n",
              "    <tr>\n",
              "      <th>420949</th>\n",
              "      <td>5</td>\n",
              "      <td>a great looking plant</td>\n",
              "    </tr>\n",
              "  </tbody>\n",
              "</table>\n",
              "</div>"
            ],
            "text/plain": [
              "        rating                                         reviewText\n",
              "215769       5                                          Very Cute\n",
              "183386       5  I bought this for my Petit1 Pilot pen because ...\n",
              "240678       5                                              Nice!\n",
              "75630        5  I purchased a home with a sidewalk, driveway a...\n",
              "420949       5                              a great looking plant"
            ]
          },
          "execution_count": 23,
          "metadata": {},
          "output_type": "execute_result"
        }
      ],
      "source": [
        "df.head()"
      ]
    },
    {
      "cell_type": "code",
      "execution_count": null,
      "metadata": {},
      "outputs": [],
      "source": []
    }
  ],
  "metadata": {
    "accelerator": "GPU",
    "colab": {
      "collapsed_sections": [],
      "name": "single-prediction.ipynb",
      "provenance": []
    },
    "kernelspec": {
      "display_name": "Python 3",
      "name": "python3"
    }
  },
  "nbformat": 4,
  "nbformat_minor": 0
}
